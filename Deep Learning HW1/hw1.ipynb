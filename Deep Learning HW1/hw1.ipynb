{
 "cells": [
  {
   "cell_type": "code",
   "execution_count": null,
   "metadata": {},
   "outputs": [],
   "source": [
    "import os\n",
    "import glob\n",
    "import numpy as np\n",
    "import pandas as pd\n",
    "\n",
    "from sklearn.model_selection import train_test_split\n",
    "from sklearn.svm import LinearSVC"
   ]
  },
  {
   "cell_type": "code",
   "execution_count": null,
   "metadata": {},
   "outputs": [],
   "source": [
    "dataset_directory = '.\\\\dataset'\n",
    "\n",
    "path = os.listdir(dataset_directory)"
   ]
  },
  {
   "cell_type": "code",
   "execution_count": null,
   "metadata": {},
   "outputs": [],
   "source": [
    "'''\n",
    "Reading the data using pandas dataframe\n",
    "\n",
    "'''\n",
    "\n",
    "labels = pd.read_csv(os.path.join(dataset_directory, 'concepts_2011.txt'), sep=\"\\t\")\n",
    "image_labels = pd.read_csv(os.path.join(dataset_directory, 'trainset_gt_annotations.txt'), sep=\" \", header=None)\n",
    "\n",
    "image_labels[0] = image_labels[0].map(lambda x: x.strip('.jpg'))\n",
    "\n",
    "list_of_features = [os.path.join(os.path.join(dataset_directory,\"imageclef2011_feats\") , file) for file in os.listdir(os.path.join(dataset_directory,\"imageclef2011_feats\")) if file.endswith(\".npy\") ]"
   ]
  },
  {
   "cell_type": "code",
   "execution_count": null,
   "metadata": {},
   "outputs": [],
   "source": [
    "labels"
   ]
  },
  {
   "cell_type": "code",
   "execution_count": null,
   "metadata": {},
   "outputs": [],
   "source": [
    "image_labels"
   ]
  },
  {
   "cell_type": "code",
   "execution_count": null,
   "metadata": {},
   "outputs": [],
   "source": [
    "list_of_features = [os.path.join(os.path.join(dataset_directory,\"imageclef2011_feats\") , file) for file in os.listdir(os.path.join(dataset_directory,\"imageclef2011_feats\")) if file.endswith(\".npy\") ]"
   ]
  },
  {
   "cell_type": "code",
   "execution_count": null,
   "metadata": {},
   "outputs": [],
   "source": [
    "feats = np.array([np.load(feat) for feat in list_of_features])"
   ]
  },
  {
   "cell_type": "code",
   "execution_count": null,
   "metadata": {},
   "outputs": [],
   "source": [
    "x_spring = feats.transpose()[9] #Spring"
   ]
  },
  {
   "cell_type": "code",
   "execution_count": null,
   "metadata": {},
   "outputs": [],
   "source": [
    "x_summer = feats.transpose()[10]#summer"
   ]
  },
  {
   "cell_type": "code",
   "execution_count": null,
   "metadata": {},
   "outputs": [],
   "source": [
    "x_autumn = feats.transpose()[11] #Autumn"
   ]
  },
  {
   "cell_type": "code",
   "execution_count": null,
   "metadata": {},
   "outputs": [],
   "source": [
    "x_winter = feats.transpose()[12] #Winter"
   ]
  },
  {
   "cell_type": "code",
   "execution_count": null,
   "metadata": {},
   "outputs": [],
   "source": [
    "y = np.repeat(np.arange(0),8000)\n",
    "y.shape"
   ]
  },
  {
   "cell_type": "code",
   "execution_count": null,
   "metadata": {},
   "outputs": [],
   "source": [
    "'''\n",
    "class based split\n",
    "Spring\n",
    "'''\n",
    "x_train, x_test, y_train, y_test = train_test_split(x_spring, y, test_size=0.15, stratify=y )\n",
    "x_train, x_val, y_train, y_val = train_test_split(x_train, y_train, test_size=2000/6800, stratify=y_train)"
   ]
  },
  {
   "cell_type": "code",
   "execution_count": null,
   "metadata": {},
   "outputs": [],
   "source": []
  },
  {
   "cell_type": "code",
   "execution_count": null,
   "metadata": {},
   "outputs": [],
   "source": [
    "'''\n",
    "class based split\n",
    "Summer\n",
    "'''\n",
    "x_train, x_test, y_train, y_test = train_test_split(x_summer, y, test_size=0.15, stratify=y )\n",
    "x_train, x_val, y_train, y_val = train_test_split(x_train, y_train, test_size=2000/6800, stratify=y_train)"
   ]
  },
  {
   "cell_type": "code",
   "execution_count": null,
   "metadata": {},
   "outputs": [],
   "source": [
    "'''\n",
    "class based split\n",
    "Fall\n",
    "'''\n",
    "x_train, x_test, y_train, y_test = train_test_split(x_autumn, y, test_size=0.15, stratify=y )\n",
    "x_train, x_val, y_train, y_val = train_test_split(x_train, y_train, test_size=2000/6800, stratify=y_train)"
   ]
  },
  {
   "cell_type": "code",
   "execution_count": null,
   "metadata": {},
   "outputs": [],
   "source": [
    "'''\n",
    "class based split\n",
    "Winter\n",
    "'''\n",
    "x_train, x_test, y_train, y_test = train_test_split(x_winter, y, test_size=0.15, stratify=y )\n",
    "x_train, x_val, y_train, y_val = train_test_split(x_train, y_train, test_size=2000/6800, stratify=y_train)"
   ]
  },
  {
   "cell_type": "code",
   "execution_count": null,
   "metadata": {},
   "outputs": [],
   "source": []
  }
 ],
 "metadata": {
  "kernelspec": {
   "display_name": "Python 3",
   "language": "python",
   "name": "python3"
  },
  "language_info": {
   "codemirror_mode": {
    "name": "ipython",
    "version": 3
   },
   "file_extension": ".py",
   "mimetype": "text/x-python",
   "name": "python",
   "nbconvert_exporter": "python",
   "pygments_lexer": "ipython3",
   "version": "3.7.6"
  }
 },
 "nbformat": 4,
 "nbformat_minor": 2
}
